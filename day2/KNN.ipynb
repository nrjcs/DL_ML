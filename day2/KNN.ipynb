{
  "nbformat": 4,
  "nbformat_minor": 0,
  "metadata": {
    "colab": {
      "name": "KNN.ipynb",
      "version": "0.3.2",
      "provenance": [],
      "collapsed_sections": [],
      "toc_visible": true
    },
    "kernelspec": {
      "name": "python2",
      "display_name": "Python 2"
    }
  },
  "cells": [
    {
      "metadata": {
        "id": "_bFtkcEoXvm_",
        "colab_type": "text"
      },
      "cell_type": "markdown",
      "source": [
        "# **Scikit Library for K Nearest Neighbors KNN**\n",
        "\n"
      ]
    },
    {
      "metadata": {
        "id": "_SpGeEeAPnTE",
        "colab_type": "text"
      },
      "cell_type": "markdown",
      "source": [
        "# **concept of KNN classification**"
      ]
    },
    {
      "metadata": {
        "id": "soy3_g43nbXb",
        "colab_type": "text"
      },
      "cell_type": "markdown",
      "source": [
        "<img src=\"https://drive.google.com/uc?export=view&id=1cbm8_OXflwbSefTgutq42g2N4GKNj_Iz\" width=400>"
      ]
    },
    {
      "metadata": {
        "id": "GCvSD_aFR-BJ",
        "colab_type": "text"
      },
      "cell_type": "markdown",
      "source": [
        "# **KNN introduction:-**\n",
        "\n",
        "1.  **Instance-Based Learning**\n",
        "2. **Lazy Learning: No learning of the model is required**\n",
        "3.  **Non-Parametric **\n",
        "\n",
        "## **Popular Distance Metrices:-**\n",
        "\n",
        "1.   **Hamming Distance**\n",
        "2.     **Manhattan Distance**\n",
        "3.   **Minkowski Distance**\n",
        "\n",
        "\n",
        "\n",
        "\n",
        "\n",
        "## > **Curse of Dimensionality**\n",
        "\n",
        "\n",
        "\n",
        "\n",
        "\n",
        "\n",
        "\n",
        "\n",
        "\n"
      ]
    },
    {
      "metadata": {
        "id": "dtnJvD1uYDdd",
        "colab_type": "text"
      },
      "cell_type": "markdown",
      "source": [
        "## **Importing Libraries**"
      ]
    },
    {
      "metadata": {
        "id": "z1WE-q96Xgrl",
        "colab_type": "code",
        "colab": {}
      },
      "cell_type": "code",
      "source": [
        "from sklearn.neighbors.nearest_centroid import NearestCentroid\n",
        "import matplotlib as mpl\n",
        "import matplotlib.pyplot as plt\n",
        "import numpy as np"
      ],
      "execution_count": 0,
      "outputs": []
    },
    {
      "metadata": {
        "id": "HjdfgST9YNBa",
        "colab_type": "text"
      },
      "cell_type": "markdown",
      "source": [
        "### **<font color=\"red\">Creating Training set (x, y) using numpy array. Each row of training set x is an instance (sample) having many features (equal to the number of columns).  The corresponding row of y is the label (category or class) of the sample. There are only two labels (classes / categories) 1 & 2 as in y.</font>**"
      ]
    },
    {
      "metadata": {
        "id": "cOjSqILuXovW",
        "colab_type": "code",
        "colab": {}
      },
      "cell_type": "code",
      "source": [
        "x = np.array([[-1, -1], [-2, -1], [-3, -2], [1, 1], [2, 1], [3, 2]])\n",
        "y = np.array([1, 1, 1, 2, 2, 2])"
      ],
      "execution_count": 0,
      "outputs": []
    },
    {
      "metadata": {
        "id": "zv3RgxFCl3xy",
        "colab_type": "text"
      },
      "cell_type": "markdown",
      "source": [
        "### **<font color=\"red\">Plotting Samples of two different classes.</font>**"
      ]
    },
    {
      "metadata": {
        "id": "zKcIMJXDebnh",
        "colab_type": "code",
        "colab": {}
      },
      "cell_type": "code",
      "source": [
        "def plotting(x, y, sample=None):\n",
        "  class_color={1:\"ro\", 2:\"bo\"}\n",
        "  class_1_x, class_1_y, class_2_x, class_2_y=[], [], [], []\n",
        "  for (i), v in np.ndenumerate(y):\n",
        "    if v==1:\n",
        "        class_1_x.append(x[i][0]); class_1_y.append(x[i][1])\n",
        "    else:\n",
        "        class_2_x.append(x[i][0]); class_2_y.append(x[i][1])\n",
        "  if sample!=None:\n",
        "      s_x=[sample[0]]; s_y=[sample[1]]; s_color=\"go\"\n",
        "      plt.plot(class_1_x, class_1_y, class_color[1], class_2_x, class_2_y, class_color[2], s_x, s_y, s_color)\n",
        "  else:\n",
        "      plt.plot(class_1_x, class_1_y, class_color[1], class_2_x, class_2_y, class_color[2])\n",
        "  return "
      ],
      "execution_count": 0,
      "outputs": []
    },
    {
      "metadata": {
        "id": "_LjxE8pcWsAj",
        "colab_type": "code",
        "outputId": "b6039e32-bae7-4cea-f0ec-f871f5ed3a96",
        "colab": {
          "base_uri": "https://localhost:8080/",
          "height": 347
        }
      },
      "cell_type": "code",
      "source": [
        "plotting(x, y)"
      ],
      "execution_count": 0,
      "outputs": [
        {
          "output_type": "display_data",
          "data": {
            "image/png": "[encoded data removed]",
            "text/plain": [
              "<matplotlib.figure.Figure at 0x7ff1e01559d0>"
            ]
          },
          "metadata": {
            "tags": []
          }
        }
      ]
    },
    {
      "metadata": {
        "id": "cpv0bs-oZ6HC",
        "colab_type": "text"
      },
      "cell_type": "markdown",
      "source": [
        "### **<font color=\"red\">First line is creating a KNN model using algorithm nearest centroid similarity. Second line train the model using training set (x, y)</font>**"
      ]
    },
    {
      "metadata": {
        "id": "lqel1wc3XquT",
        "colab_type": "code",
        "outputId": "8d175bb5-26da-4990-99cb-f9857eec2f95",
        "colab": {
          "base_uri": "https://localhost:8080/",
          "height": 34
        }
      },
      "cell_type": "code",
      "source": [
        "clf = NearestCentroid()\n",
        "clf.fit(x, y)"
      ],
      "execution_count": 0,
      "outputs": [
        {
          "output_type": "execute_result",
          "data": {
            "text/plain": [
              "NearestCentroid(metric='euclidean', shrink_threshold=None)"
            ]
          },
          "metadata": {
            "tags": []
          },
          "execution_count": 8
        }
      ]
    },
    {
      "metadata": {
        "id": "6Qu23xKoaxlq",
        "colab_type": "text"
      },
      "cell_type": "markdown",
      "source": [
        "### **<font color=\"red\">Finding the class (Label / category) of a new sample using the above trained model and Plotting</font>**"
      ]
    },
    {
      "metadata": {
        "id": "4ijxsLZWXtN7",
        "colab_type": "code",
        "outputId": "6fb3c502-a624-4133-bbaa-a2e172322f88",
        "colab": {
          "base_uri": "https://localhost:8080/",
          "height": 34
        }
      },
      "cell_type": "code",
      "source": [
        "sample=[-0.8, -1]\n",
        "print \"class Label:\", clf.predict([sample])[0]"
      ],
      "execution_count": 0,
      "outputs": [
        {
          "output_type": "stream",
          "text": [
            "class Label: 1\n"
          ],
          "name": "stdout"
        }
      ]
    },
    {
      "metadata": {
        "id": "PEcOk6Q7WyiY",
        "colab_type": "code",
        "outputId": "d718c04d-9ab5-4159-9267-6fd3c60db347",
        "colab": {
          "base_uri": "https://localhost:8080/",
          "height": 347
        }
      },
      "cell_type": "code",
      "source": [
        "plotting(x, y, sample) #color of class 1 is red, color of class 2 is blue, color of sample is green"
      ],
      "execution_count": 0,
      "outputs": [
        {
          "output_type": "display_data",
          "data": {
            "image/png": "[encoded data removed]",
            "text/plain": [
              "<matplotlib.figure.Figure at 0x7ff1de601850>"
            ]
          },
          "metadata": {
            "tags": []
          }
        }
      ]
    },
    {
      "metadata": {
        "id": "k8KoSnTVaVb7",
        "colab_type": "text"
      },
      "cell_type": "markdown",
      "source": [
        "# **Assignment**"
      ]
    },
    {
      "metadata": {
        "id": "4-OyPPWpaZ6j",
        "colab_type": "text"
      },
      "cell_type": "markdown",
      "source": [
        "<font color=\"blue\">In below code create a numpy array x(100*2) randomly fillled with intergers between [-50, 50]. Similarly create a numpy array y(100*1) randomly filled with values [0, 1, 2]. Using KNN algorithm below find class of given sample points (-5, 20), (6, 42), (47, 8), (30, 45). </font>"
      ]
    },
    {
      "metadata": {
        "id": "BB2oeo7WctIk",
        "colab_type": "code",
        "colab": {}
      },
      "cell_type": "code",
      "source": [
        "from sklearn.neighbors import KNeighborsClassifier\n",
        "\n",
        "# create x\n",
        "# create y\n",
        "\n",
        "neigh = KNeighborsClassifier(n_neighbors=3, weights=\"uniform\", algorithm=\"auto\")\n",
        "neigh.fit(x, y) "
      ],
      "execution_count": 0,
      "outputs": []
    },
    {
      "metadata": {
        "id": "3fPKWv_odZQj",
        "colab_type": "code",
        "colab": {}
      },
      "cell_type": "code",
      "source": [
        "sample=[-0.8, -1]\n",
        "print \"class Label:\", clf.predict([sample])[0]"
      ],
      "execution_count": 0,
      "outputs": []
    },
    {
      "metadata": {
        "id": "XCdqipPu0UTa",
        "colab_type": "text"
      },
      "cell_type": "markdown",
      "source": [
        "# **KNN Regression **"
      ]
    },
    {
      "metadata": {
        "id": "ATiLC4VQ0YtZ",
        "colab_type": "code",
        "outputId": "05381156-7316-46eb-aa6c-211eebc21b1d",
        "colab": {
          "base_uri": "https://localhost:8080/",
          "height": 362
        }
      },
      "cell_type": "code",
      "source": [
        "import numpy as np\n",
        "import matplotlib.pyplot as plt\n",
        "from sklearn import neighbors\n",
        "\n",
        "np.random.seed(0)\n",
        "X = np.sort(5 * np.random.rand(40, 1), axis=0)\n",
        "T = np.linspace(0, 5, 500)[:, np.newaxis]\n",
        "y = np.sin(X).ravel()\n",
        "\n",
        "# Add noise to targets\n",
        "y[::5] += 1 * (0.5 - np.random.rand(8))\n",
        "\n",
        "# Fit regression model\n",
        "n_neighbors = 5\n",
        "\n",
        "for i, weights in enumerate(['uniform', 'distance']):\n",
        "    knn = neighbors.KNeighborsRegressor(n_neighbors, weights=weights)\n",
        "    y_ = knn.fit(X, y).predict(T)\n",
        "\n",
        "    plt.subplot(2, 1, i + 1)\n",
        "    plt.scatter(X, y, c='k', label='data')\n",
        "    plt.plot(T, y_, c='g', label='prediction')\n",
        "    plt.axis('tight')\n",
        "    plt.legend()\n",
        "    plt.title(\"KNeighborsRegressor (k = %i, weights = '%s')\" % (n_neighbors, weights))\n"
      ],
      "execution_count": 0,
      "outputs": [
        {
          "output_type": "display_data",
          "data": {
            "image/png": "[encoded data removed]",
            "text/plain": [
              "<matplotlib.figure.Figure at 0x7ff1e0a5e050>"
            ]
          },
          "metadata": {
            "tags": []
          }
        }
      ]
    }
  ]
}